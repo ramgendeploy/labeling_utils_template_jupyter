{
 "cells": [
  {
   "cell_type": "code",
   "execution_count": null,
   "metadata": {},
   "outputs": [],
   "source": []
  }
 ],
 "metadata": {
  "kernelspec": {
   "display_name": "Python 3.9.0 64-bit",
   "language": "python",
   "name": "python3"
  },
  "language_info": {
   "name": "python",
   "version": "3.9.0"
  },
  "orig_nbformat": 4,
  "vscode": {
   "interpreter": {
    "hash": "0eebbb356093ce9a8be8296b84ae7b87398eae434c70299bd4118045ecb1f637"
   }
  }
 },
 "nbformat": 4,
 "nbformat_minor": 2
}
