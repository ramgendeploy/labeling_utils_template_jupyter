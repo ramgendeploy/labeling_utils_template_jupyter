{
 "cells": [
  {
   "cell_type": "code",
   "execution_count": 9,
   "metadata": {},
   "outputs": [],
   "source": [
    "import os\n",
    "from glob import glob\n",
    "from pathlib import Path\n",
    "import lib.engine as engine\n",
    "from IPython.display import display\n",
    "from lib.utils import ButtonCenter, HBoxAlign \n",
    "from ipywidgets import Layout, Output, Select,VBox, HBox, HTML"
   ]
  },
  {
   "cell_type": "code",
   "execution_count": 10,
   "metadata": {},
   "outputs": [],
   "source": [
    "users=['rama',]\n",
    "output_ds=['dogsLabeled']\n",
    "DATASETS_PATH='./data/*'"
   ]
  },
  {
   "cell_type": "code",
   "execution_count": 14,
   "metadata": {
    "tags": []
   },
   "outputs": [],
   "source": [
    "output_init = Output(layout={'border': '0px solid transparent'})\n",
    "def init_tool(DATASET_PATH, OUTPUT_PATH):\n",
    "    with output_init:\n",
    "        display(HBox(children=[HTML(\"<h1>Loading... <i class='fas fa-compact-disc fa-spin'></i></h1>\",)],\n",
    "        layout=Layout(height='auto', width='auto', justify_content='center')))\n",
    "    \n",
    "    sub_classes = ['big','medium','small']\n",
    "\n",
    "    labels=[ \n",
    "        'Labrador Retriever',\n",
    "        'French Bulldog',\n",
    "        'German Shepherd',\n",
    "        'Golden Retriever',\n",
    "        'English Bulldog',\n",
    "        'Poodle',\n",
    "        'Beagle',\n",
    "        'Rottweiler',\n",
    "    ] \n",
    "\n",
    "    # Folder generation\n",
    "    for l in labels:\n",
    "        for c in sub_classes: \n",
    "            Path(f'{OUTPUT_PATH}/{l}/{c}').mkdir(exist_ok=True, parents=True)\n",
    "\n",
    "    Path(f'{OUTPUT_PATH}/Discard').mkdir(exist_ok=True, parents=True)\n",
    "    Path(f'{OUTPUT_PATH}/Skip').mkdir(exist_ok=True, parents=True)\n",
    "\n",
    "    # Listing files\n",
    "    toLabel = [(r, d, files) for r, d, files in os.walk(DATASET_PATH)][0][-1]\n",
    "    labeled = list(filter(lambda x: len(x[1])==0, [(r, d, files) for r, d, files in os.walk(OUTPUT_PATH)]))\n",
    "    to_label_imgs=[]\n",
    "    for img in toLabel:\n",
    "        toLabel=True\n",
    "        for class_folders in labeled:\n",
    "            if img in class_folders[-1]:\n",
    "                toLabel=False\n",
    "                break\n",
    "        if toLabel:\n",
    "            to_label_imgs.append(os.path.join(DATASET_PATH, img))\n",
    "         \n",
    "    app = engine.labeling_display(to_label_imgs, labels, sub_classes,  OUTPUT_PATH)\n",
    "\n",
    "    with output_init:\n",
    "        display(app.controls, clear=True)\n",
    "    \n",
    "    display(app.output_images)\n",
    "    display(app.output_progress)\n",
    "\n",
    "\n"
   ]
  },
  {
   "cell_type": "code",
   "execution_count": 15,
   "metadata": {},
   "outputs": [
    {
     "data": {
      "application/vnd.jupyter.widget-view+json": {
       "model_id": "13bb5d5e246640528587aa1abc62f2d4",
       "version_major": 2,
       "version_minor": 0
      },
      "text/plain": [
       "Output(layout=Layout(border='0px solid transparent'))"
      ]
     },
     "metadata": {},
     "output_type": "display_data"
    }
   ],
   "source": [
    "def parse_options():    \n",
    "    DATASET_PATH=f'{sub_ds_options.value}'\n",
    "    OUTPUT_PATH=f'./labeled_data_{output_ds_options.value}_{user_options.value}'\n",
    "    init_tool(DATASET_PATH, OUTPUT_PATH)\n",
    "\n",
    "btn_go = ButtonCenter('Continue', style='success', icon='fa-check', onClick=lambda _: parse_options())\n",
    "\n",
    "user_options=Select(\n",
    "    options=users,\n",
    "    value=users[0],\n",
    "    description='User:',\n",
    "    disabled=False,\n",
    ")\n",
    "ds_options_list = glob(DATASETS_PATH)\n",
    "sub_ds_options = Select(\n",
    "    options=ds_options_list,\n",
    "    value=ds_options_list[0],\n",
    "    description='Source DS:',\n",
    "    disabled=False,\n",
    ")\n",
    "\n",
    "output_ds_options=Select(\n",
    "    options=output_ds,\n",
    "    value=output_ds[0],\n",
    "    description='Output Dataset:',\n",
    "    disabled=False,\n",
    ")\n",
    "\n",
    "# initbox = HBox(children=[user_options,sub_ds_options,output_ds_options], layout=Layout(height='auto', width='auto', justify_content='center')) \n",
    "initbox = HBoxAlign([user_options,sub_ds_options,output_ds_options], justify='center')\n",
    "init_grid = VBox(children=[\n",
    "    initbox,\n",
    "    HBoxAlign([btn_go], justify='center')\n",
    "])\n",
    "\n",
    "display(output_init)\n",
    "with output_init:\n",
    "    display(init_grid)"
   ]
  },
  {
   "cell_type": "code",
   "execution_count": null,
   "metadata": {},
   "outputs": [],
   "source": []
  }
 ],
 "metadata": {
  "kernelspec": {
   "display_name": "Python 3.8.1 ('venv')",
   "language": "python",
   "name": "python3"
  },
  "language_info": {
   "codemirror_mode": {
    "name": "ipython",
    "version": 3
   },
   "file_extension": ".py",
   "mimetype": "text/x-python",
   "name": "python",
   "nbconvert_exporter": "python",
   "pygments_lexer": "ipython3",
   "version": "3.8.1"
  },
  "vscode": {
   "interpreter": {
    "hash": "ebcd56d89b7470a3df87e1e8b8bb703d3a1d289120aa9c54409f7c3559658149"
   }
  }
 },
 "nbformat": 4,
 "nbformat_minor": 4
}
